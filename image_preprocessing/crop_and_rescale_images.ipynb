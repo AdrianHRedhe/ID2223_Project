{
 "cells": [
  {
   "cell_type": "code",
   "execution_count": 8,
   "metadata": {},
   "outputs": [],
   "source": [
    "import pandas as pd\n",
    "from os import listdir\n",
    "from PIL import Image\n",
    "from pathlib import Path"
   ]
  },
  {
   "cell_type": "code",
   "execution_count": 9,
   "metadata": {},
   "outputs": [],
   "source": [
    "def crop_img_224x224(path, new_path):\n",
    "    im = Image.open(fr'{path}')\n",
    "\n",
    "    if not im.size == (1512, 810):\n",
    "        print(path, new_path)\n",
    "        raise Exception('Image is wrong size')\n",
    "\n",
    "    # Hardcoded values on where to crop given the output of the scraping function\n",
    "    left = 0 + (390 + 201)\n",
    "    right = 1512 - (50 + 201)\n",
    "    top = 0\n",
    "    bottom = 810 - 140\n",
    "    box = (left, top, right, bottom)\n",
    "    im.crop(box) \\\n",
    "        .convert('RGB') \\\n",
    "        .resize((224,224)) \\\n",
    "        .save(f'{new_path}')\n",
    "    return"
   ]
  },
  {
   "cell_type": "code",
   "execution_count": 10,
   "metadata": {},
   "outputs": [],
   "source": [
    "def new_path_name(path, new_dir_prefix='Cropped_', new_dir_suffix='.jpg'):\n",
    "    new_path = path.split('.png')[0]\n",
    "    return new_dir_prefix + new_path + new_dir_suffix"
   ]
  },
  {
   "cell_type": "code",
   "execution_count": 11,
   "metadata": {},
   "outputs": [],
   "source": [
    "def create_cropped(dir_name):\n",
    "    new_dir_prefix = 'Cropped_'\n",
    "\n",
    "    # Create a new directory if this directory does not exist\n",
    "    Path(new_dir_prefix + dir_name).mkdir(parents=True, exist_ok=True)\n",
    "\n",
    "    paths = [dir_name + fname for fname in listdir(dir_name) if not fname[0] == '.']\n",
    "    new_paths = [new_path_name(path, new_dir_prefix='Cropped_') for path in paths]\n",
    "    \n",
    "    for path, new_path in zip(paths,new_paths):\n",
    "        try:\n",
    "            crop_img_224x224(path, new_path)\n",
    "        except:\n",
    "            print(path)\n",
    "    return "
   ]
  },
  {
   "cell_type": "code",
   "execution_count": 12,
   "metadata": {},
   "outputs": [],
   "source": [
    "start_dirs = [fname+'/' for fname in listdir('.') if not '.' in fname]"
   ]
  },
  {
   "cell_type": "code",
   "execution_count": 13,
   "metadata": {},
   "outputs": [],
   "source": [
    "for start_dir in start_dirs:\n",
    "    for dir_name in [start_dir+dir for dir in listdir(start_dir) if not '.' in dir]:\n",
    "        create_cropped(dir_name+'/')"
   ]
  },
  {
   "cell_type": "code",
   "execution_count": null,
   "metadata": {},
   "outputs": [],
   "source": [
    "create_cropped('example images/')"
   ]
  },
  {
   "cell_type": "code",
   "execution_count": null,
   "metadata": {},
   "outputs": [],
   "source": [
    "# Original Crop\n",
    "def crop_img_800x500(path, new_path):\n",
    "    im = Image.open(fr'{path}')\n",
    "\n",
    "    if not im.size == (1512, 810):\n",
    "        print(path, new_path)\n",
    "        raise Exception('Image is wrong size')\n",
    "\n",
    "    # Hardcoded values on where to crop given the output of the scraping function\n",
    "    left = 0 + 390\n",
    "    right = 1512 - 50\n",
    "    top = 0\n",
    "    bottom = 810 - 140\n",
    "    box = (left, top, right, bottom)\n",
    "    im.crop(box) \\\n",
    "        .convert('RGB') \\\n",
    "        .resize((800,500)) \\\n",
    "        .save(f'{new_path}')\n",
    "\n",
    "    return"
   ]
  }
 ],
 "metadata": {
  "kernelspec": {
   "display_name": "geolocation",
   "language": "python",
   "name": "python3"
  },
  "language_info": {
   "codemirror_mode": {
    "name": "ipython",
    "version": 3
   },
   "file_extension": ".py",
   "mimetype": "text/x-python",
   "name": "python",
   "nbconvert_exporter": "python",
   "pygments_lexer": "ipython3",
   "version": "3.11.6"
  }
 },
 "nbformat": 4,
 "nbformat_minor": 2
}
