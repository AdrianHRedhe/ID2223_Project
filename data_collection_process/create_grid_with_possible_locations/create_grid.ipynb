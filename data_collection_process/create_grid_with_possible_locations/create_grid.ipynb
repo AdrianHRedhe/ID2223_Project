{
 "cells": [
  {
   "cell_type": "code",
   "execution_count": 41,
   "metadata": {},
   "outputs": [],
   "source": [
    "from geopy.distance import distance\n",
    "import geojson\n",
    "from shapely.geometry import shape\n",
    "from shapely.geometry import Point\n"
   ]
  },
  {
   "cell_type": "code",
   "execution_count": 42,
   "metadata": {},
   "outputs": [],
   "source": [
    "def get_pol(path):\n",
    "    with open(path,'r') as file:\n",
    "        gj = geojson.load(file)\n",
    "    features = gj['features'][0]\n",
    "    geom = features['geometry']\n",
    "    return shape(geom)"
   ]
  },
  {
   "cell_type": "code",
   "execution_count": 43,
   "metadata": {},
   "outputs": [],
   "source": [
    "pol = get_pol('Stockholm.geojson')\n",
    "bounds = pol.bounds\n",
    "min_lng, min_lat, max_lng, max_lat = bounds\n",
    "ne = max_lat, max_lng\n",
    "sw = min_lat, min_lng"
   ]
  },
  {
   "cell_type": "code",
   "execution_count": 44,
   "metadata": {},
   "outputs": [],
   "source": [
    "def partition_lng(maxLat,minLat,nPartitions):\n",
    "    delta = maxLat - minLat\n",
    "    partitionDelta = delta/nPartitions\n",
    "\n",
    "    upperBoundLats = [minLat + (i+1)*partitionDelta for i in range(nPartitions)]\n",
    "    lowerBoundLats = [minLat + i*partitionDelta for i in range(nPartitions)]\n",
    "\n",
    "    return upperBoundLats, lowerBoundLats"
   ]
  },
  {
   "cell_type": "code",
   "execution_count": 47,
   "metadata": {},
   "outputs": [],
   "source": [
    "delta_lng_meters = distance((max_lat,max_lng),(max_lat,min_lng)).meters"
   ]
  },
  {
   "cell_type": "code",
   "execution_count": 48,
   "metadata": {},
   "outputs": [],
   "source": [
    "delta_lng_degree = max_lng-min_lng"
   ]
  },
  {
   "cell_type": "code",
   "execution_count": 49,
   "metadata": {},
   "outputs": [],
   "source": [
    "def get_lats_lngs_for_a_grid(max_lat, min_lat, max_lng, min_lng, meters_between_points=10):\n",
    "    delta_lat_degree = max_lat-min_lat\n",
    "    delta_lat_meters = distance((max_lat,max_lng),(min_lat,max_lng)).meters\n",
    "    number_of_lat_partitions = int(delta_lat_meters/meters_between_points)\n",
    "    delta_lat_degree_per_partition = delta_lat_degree/number_of_lat_partitions\n",
    "\n",
    "\n",
    "    lats_for_the_grid = [min_lat + i * delta_lat_degree_per_partition\n",
    "                        for i \n",
    "                        in range(number_of_lat_partitions)]\n",
    "\n",
    "    delta_lng_degree = max_lng-min_lng\n",
    "    delta_lng_meters = distance((max_lat,max_lng),(max_lat,min_lng)).meters\n",
    "    number_of_lng_partitions = int(delta_lng_meters/meters_between_points)\n",
    "    delta_lng_degree_per_partition = delta_lng_degree / number_of_lng_partitions\n",
    "\n",
    "    lngs_for_the_grid = [min_lng + i * delta_lng_degree_per_partition\n",
    "                        for i \n",
    "                        in range(number_of_lng_partitions)]\n",
    "    \n",
    "    return lats_for_the_grid, lngs_for_the_grid"
   ]
  },
  {
   "cell_type": "code",
   "execution_count": 50,
   "metadata": {},
   "outputs": [],
   "source": [
    "meters_between_points = 10\n",
    "lats_for_the_grid, lngs_for_the_grid = get_lats_lngs_for_a_grid(max_lat, min_lat, max_lng, min_lng, meters_between_points)"
   ]
  },
  {
   "cell_type": "code",
   "execution_count": 82,
   "metadata": {},
   "outputs": [],
   "source": [
    "full_grid = [Point(j,i) for j in lngs_for_the_grid for i in lats_for_the_grid]"
   ]
  },
  {
   "cell_type": "code",
   "execution_count": 83,
   "metadata": {},
   "outputs": [
    {
     "data": {
      "text/plain": [
       "852240"
      ]
     },
     "execution_count": 83,
     "metadata": {},
     "output_type": "execute_result"
    }
   ],
   "source": [
    "len(full_grid)"
   ]
  },
  {
   "cell_type": "code",
   "execution_count": 84,
   "metadata": {},
   "outputs": [],
   "source": [
    "grid_actual = [p for p in full_grid if pol.contains(p)]"
   ]
  },
  {
   "cell_type": "code",
   "execution_count": 85,
   "metadata": {},
   "outputs": [
    {
     "data": {
      "text/plain": [
       "287367"
      ]
     },
     "execution_count": 85,
     "metadata": {},
     "output_type": "execute_result"
    }
   ],
   "source": [
    "len(grid_actual)"
   ]
  },
  {
   "cell_type": "code",
   "execution_count": 93,
   "metadata": {},
   "outputs": [],
   "source": [
    "lats = [p.y for p in grid_actual]\n",
    "lngs = [p.x for p in grid_actual]"
   ]
  },
  {
   "cell_type": "code",
   "execution_count": 96,
   "metadata": {},
   "outputs": [],
   "source": [
    "all_valid_points = list(zip(lats,lngs))"
   ]
  },
  {
   "cell_type": "code",
   "execution_count": 98,
   "metadata": {},
   "outputs": [],
   "source": [
    "import pandas as pd\n",
    "df = pd.DataFrame()"
   ]
  },
  {
   "cell_type": "code",
   "execution_count": 99,
   "metadata": {},
   "outputs": [],
   "source": [
    "df['lats'] = lats\n",
    "df['lngs'] = lngs\n",
    "df['points'] = all_valid_points"
   ]
  },
  {
   "cell_type": "code",
   "execution_count": 100,
   "metadata": {},
   "outputs": [],
   "source": [
    "df.to_csv('All_GridPoints_in_GeoJSON.csv',index=False)"
   ]
  },
  {
   "cell_type": "code",
   "execution_count": null,
   "metadata": {},
   "outputs": [],
   "source": []
  }
 ],
 "metadata": {
  "kernelspec": {
   "display_name": "geolocation",
   "language": "python",
   "name": "python3"
  },
  "language_info": {
   "codemirror_mode": {
    "name": "ipython",
    "version": 3
   },
   "file_extension": ".py",
   "mimetype": "text/x-python",
   "name": "python",
   "nbconvert_exporter": "python",
   "pygments_lexer": "ipython3",
   "version": "3.11.6"
  }
 },
 "nbformat": 4,
 "nbformat_minor": 2
}
